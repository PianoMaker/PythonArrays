{
  "nbformat": 4,
  "nbformat_minor": 0,
  "metadata": {
    "colab": {
      "provenance": [],
      "authorship_tag": "ABX9TyPrl3fzLqfWcLqo2T4Xbn4a",
      "include_colab_link": true
    },
    "kernelspec": {
      "name": "python3",
      "display_name": "Python 3"
    },
    "language_info": {
      "name": "python"
    }
  },
  "cells": [
    {
      "cell_type": "markdown",
      "metadata": {
        "id": "view-in-github",
        "colab_type": "text"
      },
      "source": [
        "<a href=\"https://colab.research.google.com/github/PianoMaker/PythonArrays/blob/main/NumPy.ipynb\" target=\"_parent\"><img src=\"https://colab.research.google.com/assets/colab-badge.svg\" alt=\"Open In Colab\"/></a>"
      ]
    },
    {
      "cell_type": "code",
      "execution_count": null,
      "metadata": {
        "colab": {
          "base_uri": "https://localhost:8080/",
          "height": 888
        },
        "collapsed": true,
        "id": "WemjIlnJGLrZ",
        "outputId": "478705d2-54f1-43d3-fdc2-f74daab81977"
      },
      "outputs": [
        {
          "output_type": "stream",
          "name": "stdout",
          "text": [
            "[1 2 3 4 5]\n",
            "[1 2 3 4 5]\n"
          ]
        },
        {
          "output_type": "display_data",
          "data": {
            "text/plain": [
              "array([1, 2, 3, 4, 5])"
            ]
          },
          "metadata": {}
        },
        {
          "output_type": "stream",
          "name": "stdout",
          "text": [
            "\n",
            "\n",
            "[[1 2 3]\n",
            " [4 5 6]\n",
            " [7 8 9]]\n"
          ]
        },
        {
          "output_type": "display_data",
          "data": {
            "text/plain": [
              "array([[1, 2, 3],\n",
              "       [4, 5, 6],\n",
              "       [7, 8, 9]])"
            ]
          },
          "metadata": {}
        },
        {
          "output_type": "stream",
          "name": "stdout",
          "text": [
            "\n",
            "\n",
            "[0 2 4 6 8]\n"
          ]
        },
        {
          "output_type": "display_data",
          "data": {
            "text/plain": [
              "array([0, 2, 4, 6, 8])"
            ]
          },
          "metadata": {}
        },
        {
          "output_type": "stream",
          "name": "stdout",
          "text": [
            "\n",
            "\n",
            "[0.   0.25 0.5  0.75 1.  ]\n"
          ]
        },
        {
          "output_type": "display_data",
          "data": {
            "text/plain": [
              "array([0.  , 0.25, 0.5 , 0.75, 1.  ])"
            ]
          },
          "metadata": {}
        },
        {
          "output_type": "stream",
          "name": "stdout",
          "text": [
            "\n",
            "\n",
            "[[0.18425946 0.61144295 0.43303297]\n",
            " [0.11891447 0.99542823 0.06526124]\n",
            " [0.21317692 0.1879699  0.01222235]]\n"
          ]
        },
        {
          "output_type": "display_data",
          "data": {
            "text/plain": [
              "array([[0.18425946, 0.61144295, 0.43303297],\n",
              "       [0.11891447, 0.99542823, 0.06526124],\n",
              "       [0.21317692, 0.1879699 , 0.01222235]])"
            ]
          },
          "metadata": {}
        },
        {
          "output_type": "stream",
          "name": "stdout",
          "text": [
            "\n",
            "\n",
            "[[0. 0. 0.]\n",
            " [0. 0. 0.]]\n"
          ]
        },
        {
          "output_type": "display_data",
          "data": {
            "text/plain": [
              "array([[0., 0., 0.],\n",
              "       [0., 0., 0.]])"
            ]
          },
          "metadata": {}
        },
        {
          "output_type": "stream",
          "name": "stdout",
          "text": [
            "\n",
            "\n",
            "[[1. 1. 1.]\n",
            " [1. 1. 1.]\n",
            " [1. 1. 1.]]\n"
          ]
        },
        {
          "output_type": "display_data",
          "data": {
            "text/plain": [
              "array([[1., 1., 1.],\n",
              "       [1., 1., 1.],\n",
              "       [1., 1., 1.]])"
            ]
          },
          "metadata": {}
        },
        {
          "output_type": "stream",
          "name": "stdout",
          "text": [
            "\n",
            "\n",
            "[[1 2]\n",
            " [3 4]\n",
            " [5 6]]\n",
            "розмірність:  (3, 2)\n",
            "2\n"
          ]
        }
      ],
      "source": [
        "# @title Текст назви за умовчанням\n",
        "# 1 Створення масивів\n",
        "import numpy as np\n",
        "\n",
        "def show(arr):\n",
        "  print(arr)\n",
        "  display(arr)\n",
        "  print('\\n')\n",
        "\n",
        "#1.1. Створення масиву із pyton списку (list)\n",
        "a = np.array([1,2,3,4,5])\n",
        "print(a)\n",
        "show(a)\n",
        "\n",
        "#1.2 Створення матриці із списку списків\n",
        "b = np.array([\n",
        "    [1, 2, 3],\n",
        "    [4, 5, 6],\n",
        "    [7, 8, 9]\n",
        "])\n",
        "show(b)\n",
        "\n",
        "#1.3 створення масиву із діапазону значень\n",
        "c = np.arange(0, 10, 2)\n",
        "show(c)\n",
        "\n",
        "#1.4 створення масиву рівномірно розподілених значень\n",
        "d = np.linspace(0,1,5)\n",
        "show(d)\n",
        "\n",
        "#1.5 створення масиву випадкових значень в діапазоні від 1 до 0 заданої розмірності\n",
        "e = np.random.rand(3,3)\n",
        "show(e)\n",
        "\n",
        "#1.6 створення нульового масиву\n",
        "f = np.zeros((2,3))\n",
        "show(f)\n",
        "\n",
        "#1.7 створення одиничного масиву\n",
        "g = np.ones((3,3))\n",
        "show(g)\n",
        "\n"
      ]
    },
    {
      "cell_type": "code",
      "source": [
        "#2 основні операції з масивами\n",
        "arr = np.array([\n",
        "    [1, 2],\n",
        "    [3,4],\n",
        "    [5,6]\n",
        "])\n",
        "\n",
        "print(arr)\n",
        "print('розмірність: ', arr.shape)\n",
        "print(arr[0,1])\n",
        "print(arr[1])\n",
        "print(arr[:,1])\n",
        "print(arr[:2,1])\n",
        "print(arr[1:,1])"
      ],
      "metadata": {
        "colab": {
          "base_uri": "https://localhost:8080/"
        },
        "id": "NtB6YAEdRms1",
        "outputId": "f7c79001-7ca6-46fb-9846-d655861fc235"
      },
      "execution_count": null,
      "outputs": [
        {
          "output_type": "stream",
          "name": "stdout",
          "text": [
            "[[1 2]\n",
            " [3 4]\n",
            " [5 6]]\n",
            "розмірність:  (3, 2)\n",
            "2\n",
            "[3 4]\n",
            "[2 4 6]\n",
            "[2 4]\n",
            "[4 6]\n"
          ]
        }
      ]
    },
    {
      "cell_type": "code",
      "source": [
        "#3. Спеціальні операції\n",
        "a = np.random.randint(1, 10, size=(6,6))\n",
        "b = np.random.randint(1, 10, size=(6,6))\n",
        "print('a:\\n', a)\n",
        "print('b:\\n', b)\n",
        "\n",
        "c = a - b\n",
        "print('a - b:\\n', c)\n",
        "\n",
        "d = np.dot(a, b)\n",
        "print('a * b:\\n', d)\n",
        "\n",
        "e = np.transpose(d)\n",
        "print('d \\n', e)\n",
        "\n",
        "print('Стандартне відхилення:\\n', np.std(e))\n",
        "print('Медіана:\\n', np.median(e))\n",
        "print('Дисперсія:\\n', np.var(e))\n",
        "print('Максимум:\\n', np.max(a))\n",
        "print('Мінімум:\\n', np.min(a))\n",
        "print('Сума:\\n', np.sum(a))"
      ],
      "metadata": {
        "colab": {
          "base_uri": "https://localhost:8080/"
        },
        "collapsed": true,
        "id": "L9NNmPMFRdCH",
        "outputId": "95f28079-3dce-4ecb-f13f-9105d5e9248e"
      },
      "execution_count": null,
      "outputs": [
        {
          "output_type": "stream",
          "name": "stdout",
          "text": [
            "a:\n",
            " [[4 5 9 5 8 3]\n",
            " [5 3 3 3 6 2]\n",
            " [1 8 3 3 1 8]\n",
            " [5 7 8 1 5 8]\n",
            " [5 6 1 3 3 4]\n",
            " [5 2 1 7 3 3]]\n",
            "b:\n",
            " [[7 9 3 7 9 8]\n",
            " [5 4 3 7 3 2]\n",
            " [5 4 2 7 4 3]\n",
            " [1 5 7 8 5 8]\n",
            " [5 2 5 8 2 2]\n",
            " [4 6 4 8 9 9]]\n",
            "a - b:\n",
            " [[-3 -4  6 -2 -1 -5]\n",
            " [ 0 -1  0 -4  3  0]\n",
            " [-4  4  1 -4 -3  5]\n",
            " [ 4  2  1 -7  0  0]\n",
            " [ 0  4 -4 -5  1  2]\n",
            " [ 1 -4 -3 -1 -6 -6]]\n",
            "a * b:\n",
            " [[155 151 132 254 155 152]\n",
            " [106 108  89 165 111 109]\n",
            " [102 118  91 180 134 131]\n",
            " [168 168 116 252 185 168]\n",
            " [104 118  87 164 124 121]\n",
            " [ 84 116  99 160 123 136]]\n",
            "d \n",
            " [[155 106 102 168 104  84]\n",
            " [151 108 118 168 118 116]\n",
            " [132  89  91 116  87  99]\n",
            " [254 165 180 252 164 160]\n",
            " [155 111 134 185 124 123]\n",
            " [152 109 131 168 121 136]]\n",
            "Стандартне відхилення:\n",
            " 39.47768552386256\n",
            "Медіана:\n",
            " 127.5\n",
            "Дисперсія:\n",
            " 1558.4876543209875\n",
            "Максимум:\n",
            " 9\n",
            "Мінімум:\n",
            " 1\n",
            "Сума:\n",
            " 157\n"
          ]
        }
      ]
    },
    {
      "cell_type": "code",
      "source": [
        "#4. Спеціальні методи масивів\n",
        "arr= np.array([\n",
        "    [1, 2, 3, 4],\n",
        "    [5, 6, 7, 8],\n",
        "    [9, 10, 11, 12]\n",
        "])\n",
        "print(\"arr:\\n\", arr)\n",
        "print(\"dim1:\\n\", arr.shape)\n",
        "new_arr = arr.reshape(2, 6)\n",
        "print(\"arr:\\n\", new_arr)\n",
        "print(\"dim2:\\n\", new_arr.shape)"
      ],
      "metadata": {
        "colab": {
          "base_uri": "https://localhost:8080/"
        },
        "id": "SzslOE3bXop4",
        "outputId": "3e75a3db-923e-4e25-c24a-cf9649505f69"
      },
      "execution_count": null,
      "outputs": [
        {
          "output_type": "stream",
          "name": "stdout",
          "text": [
            "arr:\n",
            " [[ 1  2  3  4]\n",
            " [ 5  6  7  8]\n",
            " [ 9 10 11 12]]\n",
            "dim1:\n",
            " (3, 4)\n",
            "arr:\n",
            " [[ 1  2  3  4  5  6]\n",
            " [ 7  8  9 10 11 12]]\n",
            "dim2:\n",
            " (2, 6)\n"
          ]
        }
      ]
    },
    {
      "cell_type": "code",
      "source": [
        "# 4.2. Об'єднання матриць\n",
        "a = np.array([[1,2], [3,4]])\n",
        "b = np.array([[5,6], [7,8]])\n",
        "c = np.array([[9,10], [11,12]])\n",
        "\n",
        "print(\"a:\\n\", a)\n",
        "print(\"b:\\n\", b)\n",
        "print(\"c:\\n\", c)\n",
        "\n",
        "d=np.concatenate((a,b,c), axis=1) # by rows\n",
        "e=np.concatenate((a,b,c), axis=0) # by columns\n",
        "\n",
        "print(\"d:\\n\", d)\n",
        "print(\"e:\\n\", e)\n",
        "res1 = a.flatten()\n",
        "res2 = b.flatten()\n",
        "res3 = c.flatten()\n",
        "print(\"res1:\\n\", res1)\n",
        "print(\"res2:\\n\", res2)\n",
        "print(\"res3:\\n\", res3)\n"
      ],
      "metadata": {
        "colab": {
          "base_uri": "https://localhost:8080/"
        },
        "id": "UPA2uFVfZNz-",
        "outputId": "82e0c41a-76a5-4716-d285-0991de5c55c3"
      },
      "execution_count": null,
      "outputs": [
        {
          "output_type": "stream",
          "name": "stdout",
          "text": [
            "a:\n",
            " [[1 2]\n",
            " [3 4]]\n",
            "b:\n",
            " [[5 6]\n",
            " [7 8]]\n",
            "c:\n",
            " [[ 9 10]\n",
            " [11 12]]\n",
            "d:\n",
            " [[ 1  2  5  6  9 10]\n",
            " [ 3  4  7  8 11 12]]\n",
            "e:\n",
            " [[ 1  2]\n",
            " [ 3  4]\n",
            " [ 5  6]\n",
            " [ 7  8]\n",
            " [ 9 10]\n",
            " [11 12]]\n",
            "res1:\n",
            " [1 2 3 4]\n",
            "res2:\n",
            " [5 6 7 8]\n",
            "res3:\n",
            " [ 9 10 11 12]\n"
          ]
        }
      ]
    },
    {
      "cell_type": "code",
      "source": [
        "#4.3 Спеціальна методи масивів (повернення індексів)\n",
        "arr = np.array([\n",
        "   [4,2,9,89],\n",
        "   [17,5,3,14],\n",
        "   [25,-5,5,6],\n",
        "    [4,18,17,8]\n",
        "])\n",
        "print(\"a:\\n\", arr)\n",
        "print(\"max-index\", np.argmax(arr))\n",
        "print(\"min-index\", np.argmin(arr))\n",
        "\n",
        "new_arr1 = np.where(arr % 2 == 0, arr, 0)\n",
        "new_arr2 = np.argwhere(arr % 2 == 0)\n",
        "print(\"new_arr1 (непарні -> 0):\\n\", new_arr1)\n",
        "print(\"new_arr2 (індекси парних):\\n\", new_arr2)"
      ],
      "metadata": {
        "colab": {
          "base_uri": "https://localhost:8080/"
        },
        "collapsed": true,
        "id": "T9_yF4bObt7J",
        "outputId": "fb980833-9e19-46d7-a724-3475697c0db0"
      },
      "execution_count": null,
      "outputs": [
        {
          "output_type": "stream",
          "name": "stdout",
          "text": [
            "a:\n",
            " [[ 4  2  9 89]\n",
            " [17  5  3 14]\n",
            " [25 -5  5  6]\n",
            " [ 4 18 17  8]]\n",
            "max-index 3\n",
            "min-index 9\n",
            "new_arr1 (непарні -> 0):\n",
            " [[ 4  2  0  0]\n",
            " [ 0  0  0 14]\n",
            " [ 0  0  0  6]\n",
            " [ 4 18  0  8]]\n",
            "new_arr2 (індекси парних):\n",
            " [[0 0]\n",
            " [0 1]\n",
            " [1 3]\n",
            " [2 3]\n",
            " [3 0]\n",
            " [3 1]\n",
            " [3 3]]\n"
          ]
        }
      ]
    },
    {
      "cell_type": "code",
      "source": [
        "#4.4 унікальні значення, сортування\n",
        "arr = np.random.randint(low=0,high=10, size=(50,50))\n",
        "print(arr)\n",
        "uniques = np.unique(arr)\n",
        "count = np.unique(arr, return_counts=True)\n",
        "print(\"unique elements:\\n\", uniques)\n",
        "print(\"unique elements + count:\\n\", count)\n",
        "\n",
        "sort1 = np.sort(arr)         # ascending\n",
        "sort2 = np.sort(arr)[::-1]   # descending\n",
        "print(\"sorted asc\\n\", sort1)\n",
        "print(\"sorted desc\\n\", sort2)\n",
        "\n"
      ],
      "metadata": {
        "colab": {
          "base_uri": "https://localhost:8080/"
        },
        "collapsed": true,
        "id": "pJdUacoei566",
        "outputId": "d3e9cd69-49e5-4092-f7d8-fd91afa78eb4"
      },
      "execution_count": null,
      "outputs": [
        {
          "output_type": "stream",
          "name": "stdout",
          "text": [
            "[[3 5 8 ... 8 9 0]\n",
            " [6 5 1 ... 0 2 1]\n",
            " [0 2 1 ... 1 4 6]\n",
            " ...\n",
            " [0 1 1 ... 4 3 1]\n",
            " [7 7 2 ... 2 4 9]\n",
            " [8 0 7 ... 2 0 1]]\n",
            "unique elements:\n",
            " [0 1 2 3 4 5 6 7 8 9]\n",
            "unique elements + count:\n",
            " (array([0, 1, 2, 3, 4, 5, 6, 7, 8, 9]), array([276, 261, 242, 240, 257, 226, 266, 252, 246, 234]))\n",
            "sorted asc\n",
            " [[0 0 0 ... 9 9 9]\n",
            " [0 0 0 ... 9 9 9]\n",
            " [0 0 0 ... 9 9 9]\n",
            " ...\n",
            " [0 0 0 ... 9 9 9]\n",
            " [0 0 1 ... 8 9 9]\n",
            " [0 0 0 ... 9 9 9]]\n",
            "sorted desc\n",
            " [[0 0 0 ... 9 9 9]\n",
            " [0 0 1 ... 8 9 9]\n",
            " [0 0 0 ... 9 9 9]\n",
            " ...\n",
            " [0 0 0 ... 9 9 9]\n",
            " [0 0 0 ... 9 9 9]\n",
            " [0 0 0 ... 9 9 9]]\n",
            "arr:\n",
            " [[ 0  1  2  3]\n",
            " [ 4  5  6  7]\n",
            " [ 8  9 10 11]\n",
            " [12 13 14 15]]\n"
          ]
        }
      ]
    },
    {
      "cell_type": "code",
      "source": [
        "#4.5 спеціальні операції\n",
        "arr = np.arange(16).reshape(4,4)\n",
        "print(\"arr:\\n\", arr)\n",
        "\n",
        "d = np.diag(arr)\n",
        "print(\"arr:\\n\", d)\n",
        "\n",
        "s = np.trace(arr)\n",
        "print(\"trace:\\n\", s)"
      ],
      "metadata": {
        "colab": {
          "base_uri": "https://localhost:8080/"
        },
        "id": "ZxX3Oro6mfbx",
        "outputId": "34eaabaf-69f9-47a5-82e3-867a608cec6d"
      },
      "execution_count": null,
      "outputs": [
        {
          "output_type": "stream",
          "name": "stdout",
          "text": [
            "arr:\n",
            " [[ 0  1  2  3]\n",
            " [ 4  5  6  7]\n",
            " [ 8  9 10 11]\n",
            " [12 13 14 15]]\n",
            "arr:\n",
            " [ 0  5 10 15]\n",
            "trace:\n",
            " 30\n"
          ]
        }
      ]
    },
    {
      "cell_type": "code",
      "source": [
        "#5. Практична задача\n",
        "import matplotlib.pyplot as plt\n",
        "name = 'litecoin.csv'\n",
        "base = '/content/drive/MyDrive/Colab Notebooks/AI-1/'\n",
        "path = base + name\n",
        "data = np.genfromtxt(path, delimiter=',', skip_header=1, usecols = (1, 2, 3, 4, 5, 6))\n",
        "#display('data:\\n', data)\n",
        "\n",
        "open_prices, high_prices, low_prices, close_prices, adj_close_prices, volumes = data.T\n",
        "plt.plot(close_prices)\n",
        "plt.xlabel(\"Місяці\")\n",
        "plt.ylabel(\"Ціна закриття\")\n",
        "plt.title(\"Вартість Litecoin\")\n",
        "plt.show()\n"
      ],
      "metadata": {
        "colab": {
          "base_uri": "https://localhost:8080/",
          "height": 472
        },
        "id": "j3UDy0r7obvI",
        "outputId": "34d25786-4129-4a4c-e385-81344ddd929d"
      },
      "execution_count": null,
      "outputs": [
        {
          "output_type": "display_data",
          "data": {
            "text/plain": [
              "<Figure size 640x480 with 1 Axes>"
            ],
            "image/png": "[encoded data removed]"
          },
          "metadata": {}
        }
      ]
    },
    {
      "cell_type": "code",
      "source": [],
      "metadata": {
        "id": "0zXtvSMSo94F"
      },
      "execution_count": null,
      "outputs": []
    }
  ]
}